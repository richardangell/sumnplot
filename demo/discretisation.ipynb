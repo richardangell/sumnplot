{
 "cells": [
  {
   "cell_type": "code",
   "execution_count": 1,
   "id": "f47a9e14",
   "metadata": {},
   "outputs": [],
   "source": [
    "from sklearn.datasets import load_diabetes"
   ]
  },
  {
   "cell_type": "code",
   "execution_count": 2,
   "id": "e00c6a82",
   "metadata": {},
   "outputs": [],
   "source": [
    "import sumnplot as sp\n",
    "from sumnplot.discretisation import (\n",
    "    EqualWidthDiscretiser,\n",
    "    EqualWeightDiscretiser,\n",
    "    QuantileDiscretiser,\n",
    ")"
   ]
  },
  {
   "cell_type": "code",
   "execution_count": 3,
   "id": "b143bd22",
   "metadata": {},
   "outputs": [
    {
     "data": {
      "text/plain": [
       "'0.3.0'"
      ]
     },
     "execution_count": 3,
     "metadata": {},
     "output_type": "execute_result"
    }
   ],
   "source": [
    "sp.__version__"
   ]
  },
  {
   "cell_type": "markdown",
   "id": "1ac523fd",
   "metadata": {},
   "source": [
    "# Set up data\n",
    "Make the column `s1` positive so it can be treated as weights."
   ]
  },
  {
   "cell_type": "code",
   "execution_count": 4,
   "id": "9930d736",
   "metadata": {},
   "outputs": [],
   "source": [
    "X, y = load_diabetes(return_X_y=True, as_frame=True)"
   ]
  },
  {
   "cell_type": "code",
   "execution_count": 5,
   "id": "aca7b7f4",
   "metadata": {},
   "outputs": [],
   "source": [
    "X[\"s1\"] = X[\"s1\"] - X[\"s1\"].min()"
   ]
  },
  {
   "cell_type": "code",
   "execution_count": 6,
   "id": "911f61ef",
   "metadata": {},
   "outputs": [
    {
     "data": {
      "text/html": [
       "<div>\n",
       "<style scoped>\n",
       "    .dataframe tbody tr th:only-of-type {\n",
       "        vertical-align: middle;\n",
       "    }\n",
       "\n",
       "    .dataframe tbody tr th {\n",
       "        vertical-align: top;\n",
       "    }\n",
       "\n",
       "    .dataframe thead th {\n",
       "        text-align: right;\n",
       "    }\n",
       "</style>\n",
       "<table border=\"1\" class=\"dataframe\">\n",
       "  <thead>\n",
       "    <tr style=\"text-align: right;\">\n",
       "      <th></th>\n",
       "      <th>age</th>\n",
       "      <th>sex</th>\n",
       "      <th>bmi</th>\n",
       "      <th>bp</th>\n",
       "      <th>s1</th>\n",
       "      <th>s2</th>\n",
       "      <th>s3</th>\n",
       "      <th>s4</th>\n",
       "      <th>s5</th>\n",
       "      <th>s6</th>\n",
       "    </tr>\n",
       "  </thead>\n",
       "  <tbody>\n",
       "    <tr>\n",
       "      <th>0</th>\n",
       "      <td>0.038076</td>\n",
       "      <td>0.050680</td>\n",
       "      <td>0.061696</td>\n",
       "      <td>0.021872</td>\n",
       "      <td>0.082557</td>\n",
       "      <td>-0.034821</td>\n",
       "      <td>-0.043401</td>\n",
       "      <td>-0.002592</td>\n",
       "      <td>0.019908</td>\n",
       "      <td>-0.017646</td>\n",
       "    </tr>\n",
       "    <tr>\n",
       "      <th>1</th>\n",
       "      <td>-0.001882</td>\n",
       "      <td>-0.044642</td>\n",
       "      <td>-0.051474</td>\n",
       "      <td>-0.026328</td>\n",
       "      <td>0.118332</td>\n",
       "      <td>-0.019163</td>\n",
       "      <td>0.074412</td>\n",
       "      <td>-0.039493</td>\n",
       "      <td>-0.068330</td>\n",
       "      <td>-0.092204</td>\n",
       "    </tr>\n",
       "    <tr>\n",
       "      <th>2</th>\n",
       "      <td>0.085299</td>\n",
       "      <td>0.050680</td>\n",
       "      <td>0.044451</td>\n",
       "      <td>-0.005671</td>\n",
       "      <td>0.081181</td>\n",
       "      <td>-0.034194</td>\n",
       "      <td>-0.032356</td>\n",
       "      <td>-0.002592</td>\n",
       "      <td>0.002864</td>\n",
       "      <td>-0.025930</td>\n",
       "    </tr>\n",
       "    <tr>\n",
       "      <th>3</th>\n",
       "      <td>-0.089063</td>\n",
       "      <td>-0.044642</td>\n",
       "      <td>-0.011595</td>\n",
       "      <td>-0.036656</td>\n",
       "      <td>0.138971</td>\n",
       "      <td>0.024991</td>\n",
       "      <td>-0.036038</td>\n",
       "      <td>0.034309</td>\n",
       "      <td>0.022692</td>\n",
       "      <td>-0.009362</td>\n",
       "    </tr>\n",
       "    <tr>\n",
       "      <th>4</th>\n",
       "      <td>0.005383</td>\n",
       "      <td>-0.044642</td>\n",
       "      <td>-0.036385</td>\n",
       "      <td>0.021872</td>\n",
       "      <td>0.130716</td>\n",
       "      <td>0.015596</td>\n",
       "      <td>0.008142</td>\n",
       "      <td>-0.002592</td>\n",
       "      <td>-0.031991</td>\n",
       "      <td>-0.046641</td>\n",
       "    </tr>\n",
       "  </tbody>\n",
       "</table>\n",
       "</div>"
      ],
      "text/plain": [
       "        age       sex       bmi        bp        s1        s2        s3  \\\n",
       "0  0.038076  0.050680  0.061696  0.021872  0.082557 -0.034821 -0.043401   \n",
       "1 -0.001882 -0.044642 -0.051474 -0.026328  0.118332 -0.019163  0.074412   \n",
       "2  0.085299  0.050680  0.044451 -0.005671  0.081181 -0.034194 -0.032356   \n",
       "3 -0.089063 -0.044642 -0.011595 -0.036656  0.138971  0.024991 -0.036038   \n",
       "4  0.005383 -0.044642 -0.036385  0.021872  0.130716  0.015596  0.008142   \n",
       "\n",
       "         s4        s5        s6  \n",
       "0 -0.002592  0.019908 -0.017646  \n",
       "1 -0.039493 -0.068330 -0.092204  \n",
       "2 -0.002592  0.002864 -0.025930  \n",
       "3  0.034309  0.022692 -0.009362  \n",
       "4 -0.002592 -0.031991 -0.046641  "
      ]
     },
     "execution_count": 6,
     "metadata": {},
     "output_type": "execute_result"
    }
   ],
   "source": [
    "X.head()"
   ]
  },
  {
   "cell_type": "markdown",
   "id": "56f3aa31",
   "metadata": {},
   "source": [
    "# Equal Width"
   ]
  },
  {
   "cell_type": "code",
   "execution_count": 7,
   "id": "cd3ba970",
   "metadata": {},
   "outputs": [],
   "source": [
    "equal_width = EqualWidthDiscretiser(variable=\"age\", n=10)"
   ]
  },
  {
   "cell_type": "code",
   "execution_count": 8,
   "id": "2b93ac51",
   "metadata": {},
   "outputs": [
    {
     "data": {
      "text/plain": [
       "0        (0.0235, 0.0453]\n",
       "1        (-0.02, 0.00175]\n",
       "2        (0.0671, 0.0889]\n",
       "3       (-0.108, -0.0854]\n",
       "4       (0.00175, 0.0235]\n",
       "              ...        \n",
       "437      (0.0235, 0.0453]\n",
       "438      (-0.02, 0.00175]\n",
       "439      (0.0235, 0.0453]\n",
       "440    (-0.0636, -0.0418]\n",
       "441    (-0.0636, -0.0418]\n",
       "Name: age, Length: 442, dtype: category\n",
       "Categories (11, object): [(-0.108, -0.0854] < (-0.0854, -0.0636] < (-0.0636, -0.0418] < (-0.0418, -0.02] ... (0.0453, 0.0671] < (0.0671, 0.0889] < (0.0889, 0.111] < Null]"
      ]
     },
     "execution_count": 8,
     "metadata": {},
     "output_type": "execute_result"
    }
   ],
   "source": [
    "equal_width.fit_transform(X)"
   ]
  },
  {
   "cell_type": "code",
   "execution_count": 9,
   "id": "f15e749b",
   "metadata": {},
   "outputs": [
    {
     "data": {
      "text/plain": [
       "(-0.108, -0.0854]     24\n",
       "(-0.0854, -0.0636]    23\n",
       "(-0.0636, -0.0418]    47\n",
       "(-0.0418, -0.02]      53\n",
       "(-0.02, 0.00175]      55\n",
       "(0.00175, 0.0235]     85\n",
       "(0.0235, 0.0453]      69\n",
       "(0.0453, 0.0671]      47\n",
       "(0.0671, 0.0889]      33\n",
       "(0.0889, 0.111]        6\n",
       "Null                   0\n",
       "Name: age, dtype: int64"
      ]
     },
     "execution_count": 9,
     "metadata": {},
     "output_type": "execute_result"
    }
   ],
   "source": [
    "equal_width.fit_transform(X).value_counts(dropna=False).sort_index()"
   ]
  },
  {
   "cell_type": "markdown",
   "id": "3e334102",
   "metadata": {},
   "source": [
    "# Equal weight"
   ]
  },
  {
   "cell_type": "code",
   "execution_count": 10,
   "id": "b419ca2e",
   "metadata": {},
   "outputs": [],
   "source": [
    "equal_weight = EqualWeightDiscretiser(variable=\"age\", n=10)"
   ]
  },
  {
   "cell_type": "code",
   "execution_count": 11,
   "id": "98bf0d6a",
   "metadata": {},
   "outputs": [
    {
     "data": {
      "text/plain": [
       "0         (0.0344, 0.0453]\n",
       "1        (-0.02, -0.00188]\n",
       "2          (0.0666, 0.111]\n",
       "3        (-0.108, -0.0565]\n",
       "4      (-0.00188, 0.00902]\n",
       "              ...         \n",
       "437       (0.0344, 0.0453]\n",
       "438      (-0.02, -0.00188]\n",
       "439       (0.0344, 0.0453]\n",
       "440     (-0.0565, -0.0418]\n",
       "441     (-0.0565, -0.0418]\n",
       "Name: age, Length: 442, dtype: category\n",
       "Categories (11, object): [(-0.108, -0.0565] < (-0.0565, -0.0418] < (-0.0418, -0.02] < (-0.02, -0.00188] ... (0.0344, 0.0453] < (0.0453, 0.0666] < (0.0666, 0.111] < Null]"
      ]
     },
     "execution_count": 11,
     "metadata": {},
     "output_type": "execute_result"
    }
   ],
   "source": [
    "equal_weight.fit_transform(X, sample_weight=X[\"s1\"])"
   ]
  },
  {
   "cell_type": "code",
   "execution_count": 12,
   "id": "41e79a96",
   "metadata": {},
   "outputs": [
    {
     "data": {
      "text/plain": [
       "(-0.108, -0.0565]      58\n",
       "(-0.0565, -0.0418]     47\n",
       "(-0.0418, -0.02]       49\n",
       "(-0.02, -0.00188]      48\n",
       "(-0.00188, 0.00902]    41\n",
       "(0.00902, 0.0199]      44\n",
       "(0.0199, 0.0344]       42\n",
       "(0.0344, 0.0453]       41\n",
       "(0.0453, 0.0666]       33\n",
       "(0.0666, 0.111]        39\n",
       "Null                    0\n",
       "Name: age, dtype: int64"
      ]
     },
     "execution_count": 12,
     "metadata": {},
     "output_type": "execute_result"
    }
   ],
   "source": [
    "equal_weight.fit_transform(X, sample_weight=X[\"s1\"]).value_counts(\n",
    "    dropna=False\n",
    ").sort_index()"
   ]
  },
  {
   "cell_type": "code",
   "execution_count": 13,
   "id": "509d76a4",
   "metadata": {},
   "outputs": [
    {
     "data": {
      "text/plain": [
       "age\n",
       "(-0.108, -0.0565]      5.562977\n",
       "(-0.0565, -0.0418]     5.950996\n",
       "(-0.0418, -0.02]       5.985395\n",
       "(-0.02, -0.00188]      6.376166\n",
       "(-0.00188, 0.00902]    5.546466\n",
       "(0.00902, 0.0199]      5.461157\n",
       "(0.0199, 0.0344]       5.241004\n",
       "(0.0344, 0.0453]       5.495556\n",
       "(0.0453, 0.0666]       4.788316\n",
       "(0.0666, 0.111]        5.629023\n",
       "Null                   0.000000\n",
       "Name: s1, dtype: float64"
      ]
     },
     "execution_count": 13,
     "metadata": {},
     "output_type": "execute_result"
    }
   ],
   "source": [
    "X.groupby(equal_weight.fit_transform(X, sample_weight=X[\"s1\"]))[\"s1\"].sum()"
   ]
  },
  {
   "cell_type": "markdown",
   "id": "497f7b81",
   "metadata": {},
   "source": [
    "# Quantile bucketing"
   ]
  },
  {
   "cell_type": "code",
   "execution_count": 14,
   "id": "1afc80c1",
   "metadata": {},
   "outputs": [],
   "source": [
    "quantile_buckets = QuantileDiscretiser(\n",
    "    variable=\"age\", quantiles=(0, 0.25, 0.5, 0.75, 1.0)\n",
    ")"
   ]
  },
  {
   "cell_type": "code",
   "execution_count": 15,
   "id": "869cd1eb",
   "metadata": {},
   "outputs": [
    {
     "data": {
      "text/plain": [
       "0       (0.00538, 0.0381]\n",
       "1      (-0.0382, 0.00538]\n",
       "2         (0.0381, 0.111]\n",
       "3       (-0.108, -0.0382]\n",
       "4      (-0.0382, 0.00538]\n",
       "              ...        \n",
       "437       (0.0381, 0.111]\n",
       "438    (-0.0382, 0.00538]\n",
       "439       (0.0381, 0.111]\n",
       "440     (-0.108, -0.0382]\n",
       "441     (-0.108, -0.0382]\n",
       "Name: age, Length: 442, dtype: category\n",
       "Categories (5, object): [(-0.108, -0.0382] < (-0.0382, 0.00538] < (0.00538, 0.0381] < (0.0381, 0.111] < Null]"
      ]
     },
     "execution_count": 15,
     "metadata": {},
     "output_type": "execute_result"
    }
   ],
   "source": [
    "quantile_buckets.fit_transform(X)"
   ]
  },
  {
   "cell_type": "code",
   "execution_count": 16,
   "id": "73170b53",
   "metadata": {},
   "outputs": [
    {
     "data": {
      "text/plain": [
       "(-0.108, -0.0382]     111\n",
       "(-0.0382, 0.00538]    116\n",
       "(0.00538, 0.0381]     112\n",
       "(0.0381, 0.111]       103\n",
       "Null                    0\n",
       "Name: age, dtype: int64"
      ]
     },
     "execution_count": 16,
     "metadata": {},
     "output_type": "execute_result"
    }
   ],
   "source": [
    "quantile_buckets.fit_transform(X).value_counts(dropna=False).sort_index()"
   ]
  },
  {
   "cell_type": "markdown",
   "id": "3cb2f578",
   "metadata": {},
   "source": [
    "# Weighted quantile bucketing"
   ]
  },
  {
   "cell_type": "code",
   "execution_count": 17,
   "id": "61e37146",
   "metadata": {},
   "outputs": [],
   "source": [
    "weighted_quantile_buckets = QuantileDiscretiser(\n",
    "    variable=\"age\", quantiles=(0, 0.25, 0.5, 0.75, 1.0)\n",
    ")"
   ]
  },
  {
   "cell_type": "code",
   "execution_count": 18,
   "id": "8f4befaa",
   "metadata": {},
   "outputs": [
    {
     "data": {
      "text/plain": [
       "0       (0.00902, 0.0417]\n",
       "1      (-0.0273, 0.00902]\n",
       "2         (0.0417, 0.111]\n",
       "3       (-0.108, -0.0273]\n",
       "4      (-0.0273, 0.00902]\n",
       "              ...        \n",
       "437     (0.00902, 0.0417]\n",
       "438    (-0.0273, 0.00902]\n",
       "439     (0.00902, 0.0417]\n",
       "440     (-0.108, -0.0273]\n",
       "441     (-0.108, -0.0273]\n",
       "Name: age, Length: 442, dtype: category\n",
       "Categories (5, object): [(-0.108, -0.0273] < (-0.0273, 0.00902] < (0.00902, 0.0417] < (0.0417, 0.111] < Null]"
      ]
     },
     "execution_count": 18,
     "metadata": {},
     "output_type": "execute_result"
    }
   ],
   "source": [
    "weighted_quantile_buckets.fit_transform(X, sample_weight=X[\"s1\"])"
   ]
  },
  {
   "cell_type": "code",
   "execution_count": 19,
   "id": "e97b15a8",
   "metadata": {},
   "outputs": [
    {
     "data": {
      "text/plain": [
       "(-0.108, -0.0273]     137\n",
       "(-0.0273, 0.00902]    106\n",
       "(0.00902, 0.0417]     113\n",
       "(0.0417, 0.111]        86\n",
       "Null                    0\n",
       "Name: age, dtype: int64"
      ]
     },
     "execution_count": 19,
     "metadata": {},
     "output_type": "execute_result"
    }
   ],
   "source": [
    "weighted_quantile_buckets.fit_transform(X, sample_weight=X[\"s1\"]).value_counts(\n",
    "    dropna=False\n",
    ").sort_index()"
   ]
  },
  {
   "cell_type": "markdown",
   "id": "e48f064a",
   "metadata": {},
   "source": [
    "# Fit and transform"
   ]
  },
  {
   "cell_type": "code",
   "execution_count": 20,
   "id": "49ca5d99",
   "metadata": {},
   "outputs": [],
   "source": [
    "equal_weight2 = EqualWeightDiscretiser(variable=\"bmi\", n=8)"
   ]
  },
  {
   "cell_type": "code",
   "execution_count": 21,
   "id": "f30a6582",
   "metadata": {},
   "outputs": [
    {
     "data": {
      "text/plain": [
       "EqualWeightDiscretiser(n=8, variable='bmi')"
      ]
     },
     "execution_count": 21,
     "metadata": {},
     "output_type": "execute_result"
    }
   ],
   "source": [
    "equal_weight2.fit(X.loc[0 : X.shape[0] // 2])"
   ]
  },
  {
   "cell_type": "code",
   "execution_count": 22,
   "id": "01a01bc3",
   "metadata": {},
   "outputs": [
    {
     "data": {
      "text/plain": [
       "(-0.0848, -0.0579]     29\n",
       "(-0.0579, -0.0375]     28\n",
       "(-0.0375, -0.0205]     26\n",
       "(-0.0205, -0.00621]    29\n",
       "(-0.00621, 0.00996]    28\n",
       "(0.00996, 0.0283]      27\n",
       "(0.0283, 0.0558]       27\n",
       "(0.0558, 0.129]        28\n",
       "Null                    0\n",
       "Name: bmi, dtype: int64"
      ]
     },
     "execution_count": 22,
     "metadata": {},
     "output_type": "execute_result"
    }
   ],
   "source": [
    "equal_weight2.transform(X.loc[0 : X.shape[0] // 2]).value_counts(\n",
    "    dropna=False\n",
    ").sort_index()"
   ]
  },
  {
   "cell_type": "code",
   "execution_count": 23,
   "id": "08204439",
   "metadata": {},
   "outputs": [
    {
     "data": {
      "text/plain": [
       "array([-0.08380842, -0.05794093, -0.0374625 , -0.02048696, -0.00620595,\n",
       "        0.00996123,  0.02828403,  0.05576824,  0.12852056])"
      ]
     },
     "execution_count": 23,
     "metadata": {},
     "output_type": "execute_result"
    }
   ],
   "source": [
    "equal_weight2.cut_points"
   ]
  },
  {
   "cell_type": "code",
   "execution_count": 24,
   "id": "0b9f3e60",
   "metadata": {},
   "outputs": [
    {
     "data": {
      "text/plain": [
       "(-0.0848, -0.0579]     16\n",
       "(-0.0579, -0.0375]     26\n",
       "(-0.0375, -0.0205]     41\n",
       "(-0.0205, -0.00621]    31\n",
       "(-0.00621, 0.00996]    25\n",
       "(0.00996, 0.0283]      18\n",
       "(0.0283, 0.0558]       25\n",
       "(0.0558, 0.129]        33\n",
       "Null                    6\n",
       "Name: bmi, dtype: int64"
      ]
     },
     "execution_count": 24,
     "metadata": {},
     "output_type": "execute_result"
    }
   ],
   "source": [
    "equal_weight2.transform(X.loc[X.shape[0] // 2 :]).value_counts(\n",
    "    dropna=False\n",
    ").sort_index()"
   ]
  }
 ],
 "metadata": {
  "jupytext": {
   "formats": "ipynb,py:light"
  },
  "kernelspec": {
   "display_name": "sumnplot",
   "language": "python",
   "name": "sumnplot"
  },
  "language_info": {
   "codemirror_mode": {
    "name": "ipython",
    "version": 3
   },
   "file_extension": ".py",
   "mimetype": "text/x-python",
   "name": "python",
   "nbconvert_exporter": "python",
   "pygments_lexer": "ipython3",
   "version": "3.7.13"
  },
  "toc": {
   "base_numbering": 1,
   "nav_menu": {},
   "number_sections": true,
   "sideBar": true,
   "skip_h1_title": false,
   "title_cell": "Table of Contents",
   "title_sidebar": "Contents",
   "toc_cell": false,
   "toc_position": {},
   "toc_section_display": true,
   "toc_window_display": false
  }
 },
 "nbformat": 4,
 "nbformat_minor": 5
}
