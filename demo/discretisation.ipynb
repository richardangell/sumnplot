{
 "cells": [
  {
   "cell_type": "code",
   "execution_count": 1,
   "metadata": {},
   "outputs": [],
   "source": [
    "import pandas as pd\n",
    "import numpy as np"
   ]
  },
  {
   "cell_type": "code",
   "execution_count": 2,
   "metadata": {},
   "outputs": [],
   "source": [
    "import pyandev\n",
    "import pyandev.discretisation as d\n",
    "from pyandev.tests import data as test_data"
   ]
  },
  {
   "cell_type": "code",
   "execution_count": 3,
   "metadata": {},
   "outputs": [
    {
     "data": {
      "text/plain": [
       "'0.1.0'"
      ]
     },
     "execution_count": 3,
     "metadata": {},
     "output_type": "execute_result"
    }
   ],
   "source": [
    "pyandev.__version__"
   ]
  },
  {
   "cell_type": "markdown",
   "metadata": {},
   "source": [
    "# Load data"
   ]
  },
  {
   "cell_type": "code",
   "execution_count": 4,
   "metadata": {},
   "outputs": [],
   "source": [
    "boston_df = test_data.load_boston_df(insert_missings = True, add_weights_column = True)"
   ]
  },
  {
   "cell_type": "code",
   "execution_count": 5,
   "metadata": {},
   "outputs": [
    {
     "data": {
      "text/html": [
       "<div>\n",
       "<style scoped>\n",
       "    .dataframe tbody tr th:only-of-type {\n",
       "        vertical-align: middle;\n",
       "    }\n",
       "\n",
       "    .dataframe tbody tr th {\n",
       "        vertical-align: top;\n",
       "    }\n",
       "\n",
       "    .dataframe thead th {\n",
       "        text-align: right;\n",
       "    }\n",
       "</style>\n",
       "<table border=\"1\" class=\"dataframe\">\n",
       "  <thead>\n",
       "    <tr style=\"text-align: right;\">\n",
       "      <th></th>\n",
       "      <th>CRIM</th>\n",
       "      <th>ZN</th>\n",
       "      <th>INDUS</th>\n",
       "      <th>CHAS</th>\n",
       "      <th>NOX</th>\n",
       "      <th>RM</th>\n",
       "      <th>AGE</th>\n",
       "      <th>DIS</th>\n",
       "      <th>RAD</th>\n",
       "      <th>TAX</th>\n",
       "      <th>PTRATIO</th>\n",
       "      <th>B</th>\n",
       "      <th>LSTAT</th>\n",
       "      <th>target</th>\n",
       "      <th>weights</th>\n",
       "    </tr>\n",
       "  </thead>\n",
       "  <tbody>\n",
       "    <tr>\n",
       "      <th>0</th>\n",
       "      <td>0.00632</td>\n",
       "      <td>18.0</td>\n",
       "      <td>NaN</td>\n",
       "      <td>0.0</td>\n",
       "      <td>0.538</td>\n",
       "      <td>NaN</td>\n",
       "      <td>65.2</td>\n",
       "      <td>4.0900</td>\n",
       "      <td>1.0</td>\n",
       "      <td>296.0</td>\n",
       "      <td>15.3</td>\n",
       "      <td>396.90</td>\n",
       "      <td>4.98</td>\n",
       "      <td>24.0</td>\n",
       "      <td>0.333333</td>\n",
       "    </tr>\n",
       "    <tr>\n",
       "      <th>1</th>\n",
       "      <td>0.02731</td>\n",
       "      <td>NaN</td>\n",
       "      <td>7.07</td>\n",
       "      <td>0.0</td>\n",
       "      <td>0.469</td>\n",
       "      <td>6.421</td>\n",
       "      <td>78.9</td>\n",
       "      <td>4.9671</td>\n",
       "      <td>2.0</td>\n",
       "      <td>242.0</td>\n",
       "      <td>17.8</td>\n",
       "      <td>396.90</td>\n",
       "      <td>9.14</td>\n",
       "      <td>21.6</td>\n",
       "      <td>2.666667</td>\n",
       "    </tr>\n",
       "    <tr>\n",
       "      <th>2</th>\n",
       "      <td>NaN</td>\n",
       "      <td>NaN</td>\n",
       "      <td>7.07</td>\n",
       "      <td>0.0</td>\n",
       "      <td>NaN</td>\n",
       "      <td>7.185</td>\n",
       "      <td>61.1</td>\n",
       "      <td>4.9671</td>\n",
       "      <td>2.0</td>\n",
       "      <td>242.0</td>\n",
       "      <td>17.8</td>\n",
       "      <td>392.83</td>\n",
       "      <td>NaN</td>\n",
       "      <td>34.7</td>\n",
       "      <td>2.333333</td>\n",
       "    </tr>\n",
       "    <tr>\n",
       "      <th>3</th>\n",
       "      <td>0.03237</td>\n",
       "      <td>0.0</td>\n",
       "      <td>2.18</td>\n",
       "      <td>0.0</td>\n",
       "      <td>0.458</td>\n",
       "      <td>6.998</td>\n",
       "      <td>45.8</td>\n",
       "      <td>6.0622</td>\n",
       "      <td>3.0</td>\n",
       "      <td>222.0</td>\n",
       "      <td>18.7</td>\n",
       "      <td>NaN</td>\n",
       "      <td>2.94</td>\n",
       "      <td>33.4</td>\n",
       "      <td>3.000000</td>\n",
       "    </tr>\n",
       "    <tr>\n",
       "      <th>4</th>\n",
       "      <td>0.06905</td>\n",
       "      <td>0.0</td>\n",
       "      <td>2.18</td>\n",
       "      <td>NaN</td>\n",
       "      <td>0.458</td>\n",
       "      <td>7.147</td>\n",
       "      <td>54.2</td>\n",
       "      <td>6.0622</td>\n",
       "      <td>3.0</td>\n",
       "      <td>222.0</td>\n",
       "      <td>18.7</td>\n",
       "      <td>396.90</td>\n",
       "      <td>NaN</td>\n",
       "      <td>36.2</td>\n",
       "      <td>0.333333</td>\n",
       "    </tr>\n",
       "  </tbody>\n",
       "</table>\n",
       "</div>"
      ],
      "text/plain": [
       "      CRIM    ZN  INDUS  CHAS    NOX     RM   AGE     DIS  RAD    TAX  \\\n",
       "0  0.00632  18.0    NaN   0.0  0.538    NaN  65.2  4.0900  1.0  296.0   \n",
       "1  0.02731   NaN   7.07   0.0  0.469  6.421  78.9  4.9671  2.0  242.0   \n",
       "2      NaN   NaN   7.07   0.0    NaN  7.185  61.1  4.9671  2.0  242.0   \n",
       "3  0.03237   0.0   2.18   0.0  0.458  6.998  45.8  6.0622  3.0  222.0   \n",
       "4  0.06905   0.0   2.18   NaN  0.458  7.147  54.2  6.0622  3.0  222.0   \n",
       "\n",
       "   PTRATIO       B  LSTAT  target   weights  \n",
       "0     15.3  396.90   4.98    24.0  0.333333  \n",
       "1     17.8  396.90   9.14    21.6  2.666667  \n",
       "2     17.8  392.83    NaN    34.7  2.333333  \n",
       "3     18.7     NaN   2.94    33.4  3.000000  \n",
       "4     18.7  396.90    NaN    36.2  0.333333  "
      ]
     },
     "execution_count": 5,
     "metadata": {},
     "output_type": "execute_result"
    }
   ],
   "source": [
    "boston_df.head()"
   ]
  },
  {
   "cell_type": "markdown",
   "metadata": {},
   "source": [
    "# Equal width bucketing"
   ]
  },
  {
   "cell_type": "code",
   "execution_count": 6,
   "metadata": {},
   "outputs": [],
   "source": [
    "CRIM_bucket = d.discretise(\n",
    "    df = boston_df, \n",
    "    variable = 'CRIM', \n",
    "    n = 15, \n",
    "    bucketing_type = 'equal_width'\n",
    ")"
   ]
  },
  {
   "cell_type": "code",
   "execution_count": 7,
   "metadata": {},
   "outputs": [
    {
     "data": {
      "text/plain": [
       "(-0.08360000000000001, 5.938]    378\n",
       "(5.938, 11.869]                   42\n",
       "(11.869, 17.8]                    21\n",
       "(17.8, 23.732]                    10\n",
       "(23.732, 29.663]                   4\n",
       "(29.663, 35.594]                   0\n",
       "(35.594, 41.526]                   0\n",
       "(41.526, 47.457]                   1\n",
       "(47.457, 53.388]                   1\n",
       "(53.388, 59.32]                    0\n",
       "(59.32, 65.251]                    0\n",
       "(65.251, 71.182]                   1\n",
       "(71.182, 77.114]                   1\n",
       "(77.114, 83.045]                   0\n",
       "(83.045, 88.976]                   1\n",
       "Null                              46\n",
       "Name: CRIM, dtype: int64"
      ]
     },
     "execution_count": 7,
     "metadata": {},
     "output_type": "execute_result"
    }
   ],
   "source": [
    "CRIM_bucket.value_counts(dropna = False).sort_index()"
   ]
  },
  {
   "cell_type": "code",
   "execution_count": 8,
   "metadata": {},
   "outputs": [
    {
     "data": {
      "text/plain": [
       "<matplotlib.axes._subplots.AxesSubplot at 0x1a19d73470>"
      ]
     },
     "execution_count": 8,
     "metadata": {},
     "output_type": "execute_result"
    },
    {
     "data": {
      "image/png": "[encoded data removed]",
      "text/plain": [
       "<Figure size 432x288 with 1 Axes>"
      ]
     },
     "metadata": {
      "needs_background": "light"
     },
     "output_type": "display_data"
    }
   ],
   "source": [
    "CRIM_bucket.value_counts(dropna = False).sort_index().plot('bar', title = 'CRIM_bucket')"
   ]
  },
  {
   "cell_type": "markdown",
   "metadata": {},
   "source": [
    "# Equal weight bucketing"
   ]
  },
  {
   "cell_type": "code",
   "execution_count": 9,
   "metadata": {},
   "outputs": [],
   "source": [
    "CRIM_bucket_2 = d.discretise(\n",
    "    df = boston_df, \n",
    "    variable = 'CRIM', \n",
    "    n = 15, \n",
    "    bucketing_type = 'equal_weight',\n",
    "    weights_column = 'weights'\n",
    ")"
   ]
  },
  {
   "cell_type": "code",
   "execution_count": 10,
   "metadata": {},
   "outputs": [
    {
     "data": {
      "text/plain": [
       "(0.00532, 0.0324]    31\n",
       "(0.0324, 0.0476]     35\n",
       "(0.0476, 0.0719]     40\n",
       "(0.0719, 0.104]      39\n",
       "(0.104, 0.145]       38\n",
       "(0.145, 0.196]       29\n",
       "(0.196, 0.291]       29\n",
       "(0.291, 0.523]       33\n",
       "(0.523, 0.994]       32\n",
       "(0.994, 2.678]       33\n",
       "(2.678, 6.666]       43\n",
       "(6.666, 10.293]      32\n",
       "(10.293, 18.358]     29\n",
       "Null                 63\n",
       "Name: CRIM, dtype: int64"
      ]
     },
     "execution_count": 10,
     "metadata": {},
     "output_type": "execute_result"
    }
   ],
   "source": [
    "CRIM_bucket_2.value_counts(dropna = False).sort_index()"
   ]
  },
  {
   "cell_type": "code",
   "execution_count": 11,
   "metadata": {},
   "outputs": [
    {
     "data": {
      "text/plain": [
       "<matplotlib.axes._subplots.AxesSubplot at 0x1a1a0e5a20>"
      ]
     },
     "execution_count": 11,
     "metadata": {},
     "output_type": "execute_result"
    },
    {
     "data": {
      "image/png": "[encoded data removed]",
      "text/plain": [
       "<Figure size 432x288 with 1 Axes>"
      ]
     },
     "metadata": {
      "needs_background": "light"
     },
     "output_type": "display_data"
    }
   ],
   "source": [
    "CRIM_bucket_2.value_counts(dropna = False).sort_index().plot('bar', title = 'CRIM_bucket_2')"
   ]
  },
  {
   "cell_type": "code",
   "execution_count": 12,
   "metadata": {},
   "outputs": [
    {
     "data": {
      "text/plain": [
       "CRIM\n",
       "(0.00532, 0.0324]    50.666667\n",
       "(0.0324, 0.0476]     48.666667\n",
       "(0.0476, 0.0719]     48.666667\n",
       "(0.0719, 0.104]      49.333333\n",
       "(0.104, 0.145]       50.000000\n",
       "(0.145, 0.196]       48.666667\n",
       "(0.196, 0.291]       47.333333\n",
       "(0.291, 0.523]       50.666667\n",
       "(0.523, 0.994]       49.666667\n",
       "(0.994, 2.678]       48.333333\n",
       "(2.678, 6.666]       49.333333\n",
       "(6.666, 10.293]      50.000000\n",
       "(10.293, 18.358]     48.000000\n",
       "Null                 98.666667\n",
       "Name: weights, dtype: float64"
      ]
     },
     "execution_count": 12,
     "metadata": {},
     "output_type": "execute_result"
    }
   ],
   "source": [
    "boston_df.groupby(CRIM_bucket_2)['weights'].sum()"
   ]
  },
  {
   "cell_type": "code",
   "execution_count": 13,
   "metadata": {},
   "outputs": [
    {
     "data": {
      "text/plain": [
       "<matplotlib.axes._subplots.AxesSubplot at 0x1a1a1ae048>"
      ]
     },
     "execution_count": 13,
     "metadata": {},
     "output_type": "execute_result"
    },
    {
     "data": {
      "image/png": "[encoded data removed]",
      "text/plain": [
       "<Figure size 432x288 with 1 Axes>"
      ]
     },
     "metadata": {
      "needs_background": "light"
     },
     "output_type": "display_data"
    }
   ],
   "source": [
    "boston_df.groupby(CRIM_bucket_2)['weights'].sum().plot('bar', title = 'CRIM_bucket_2')"
   ]
  },
  {
   "cell_type": "markdown",
   "metadata": {},
   "source": [
    "# Quantile bucketing"
   ]
  },
  {
   "cell_type": "code",
   "execution_count": 14,
   "metadata": {},
   "outputs": [],
   "source": [
    "CRIM_bucket_3 = d.discretise(\n",
    "    df = boston_df, \n",
    "    variable = 'CRIM', \n",
    "    bucketing_type = 'quantile', \n",
    "    quantiles = np.linspace(0, 1, 11)\n",
    ")"
   ]
  },
  {
   "cell_type": "code",
   "execution_count": 15,
   "metadata": {},
   "outputs": [
    {
     "data": {
      "text/plain": [
       "0.0     0.006320\n",
       "0.1     0.037347\n",
       "0.2     0.064562\n",
       "0.3     0.097020\n",
       "0.4     0.147100\n",
       "0.5     0.250895\n",
       "0.6     0.538244\n",
       "0.7     1.473248\n",
       "0.8     5.249644\n",
       "0.9    10.293120\n",
       "1.0    88.976200\n",
       "Name: CRIM, dtype: float64"
      ]
     },
     "execution_count": 15,
     "metadata": {},
     "output_type": "execute_result"
    }
   ],
   "source": [
    "boston_df['CRIM'].quantile(np.linspace(0, 1, 11))"
   ]
  },
  {
   "cell_type": "code",
   "execution_count": 16,
   "metadata": {},
   "outputs": [
    {
     "data": {
      "text/plain": [
       "(0.00532, 0.0373]    46\n",
       "(0.0373, 0.0646]     46\n",
       "(0.0646, 0.097]      46\n",
       "(0.097, 0.147]       46\n",
       "(0.147, 0.251]       46\n",
       "(0.251, 0.538]       46\n",
       "(0.538, 1.473]       46\n",
       "(1.473, 5.25]        46\n",
       "(5.25, 10.293]       46\n",
       "(10.293, 88.976]     46\n",
       "Null                 46\n",
       "Name: CRIM, dtype: int64"
      ]
     },
     "execution_count": 16,
     "metadata": {},
     "output_type": "execute_result"
    }
   ],
   "source": [
    "CRIM_bucket_3.value_counts(dropna = False).sort_index()"
   ]
  },
  {
   "cell_type": "code",
   "execution_count": 17,
   "metadata": {},
   "outputs": [
    {
     "data": {
      "text/plain": [
       "<matplotlib.axes._subplots.AxesSubplot at 0x1a1a268940>"
      ]
     },
     "execution_count": 17,
     "metadata": {},
     "output_type": "execute_result"
    },
    {
     "data": {
      "image/png": "[encoded data removed]",
      "text/plain": [
       "<Figure size 432x288 with 1 Axes>"
      ]
     },
     "metadata": {
      "needs_background": "light"
     },
     "output_type": "display_data"
    }
   ],
   "source": [
    "CRIM_bucket_3.value_counts(dropna = False).sort_index().plot('bar', title = 'CRIM_bucket_3')"
   ]
  },
  {
   "cell_type": "markdown",
   "metadata": {},
   "source": [
    "# Weighted quantile bucketing"
   ]
  },
  {
   "cell_type": "code",
   "execution_count": 18,
   "metadata": {},
   "outputs": [],
   "source": [
    "CRIM_bucket_4 = d.discretise(\n",
    "    df = boston_df, \n",
    "    variable = 'CRIM', \n",
    "    weights_column = 'weights',\n",
    "    bucketing_type = 'weighted_quantile', \n",
    "    quantiles = np.linspace(0, 1, 11)\n",
    ")"
   ]
  },
  {
   "cell_type": "code",
   "execution_count": 19,
   "metadata": {},
   "outputs": [
    {
     "data": {
      "text/plain": [
       "(0.00532, 0.0376]    47\n",
       "(0.0376, 0.0719]     59\n",
       "(0.0719, 0.127]      59\n",
       "(0.127, 0.196]       47\n",
       "(0.196, 0.368]       45\n",
       "(0.368, 0.994]       49\n",
       "(0.994, 4.248]       50\n",
       "(4.248, 10.293]      58\n",
       "(10.293, 44.859]     42\n",
       "Null                 50\n",
       "Name: CRIM, dtype: int64"
      ]
     },
     "execution_count": 19,
     "metadata": {},
     "output_type": "execute_result"
    }
   ],
   "source": [
    "CRIM_bucket_4.value_counts(dropna = False).sort_index()"
   ]
  },
  {
   "cell_type": "code",
   "execution_count": 20,
   "metadata": {},
   "outputs": [
    {
     "data": {
      "text/plain": [
       "<matplotlib.axes._subplots.AxesSubplot at 0x1a1a2f5668>"
      ]
     },
     "execution_count": 20,
     "metadata": {},
     "output_type": "execute_result"
    },
    {
     "data": {
      "image/png": "[encoded data removed]",
      "text/plain": [
       "<Figure size 432x288 with 1 Axes>"
      ]
     },
     "metadata": {
      "needs_background": "light"
     },
     "output_type": "display_data"
    }
   ],
   "source": [
    "CRIM_bucket_4.value_counts(dropna = False).sort_index().plot('bar', title = 'CRIM_bucket_2')"
   ]
  },
  {
   "cell_type": "code",
   "execution_count": 21,
   "metadata": {},
   "outputs": [
    {
     "data": {
      "text/plain": [
       "CRIM\n",
       "(0.00532, 0.0376]    73.666667\n",
       "(0.0376, 0.0719]     74.333333\n",
       "(0.0719, 0.127]      73.000000\n",
       "(0.127, 0.196]       75.000000\n",
       "(0.196, 0.368]       73.000000\n",
       "(0.368, 0.994]       74.666667\n",
       "(0.994, 4.248]       72.333333\n",
       "(4.248, 10.293]      75.333333\n",
       "(10.293, 44.859]     73.000000\n",
       "Null                 73.666667\n",
       "Name: weights, dtype: float64"
      ]
     },
     "execution_count": 21,
     "metadata": {},
     "output_type": "execute_result"
    }
   ],
   "source": [
    "boston_df.groupby(CRIM_bucket_4)['weights'].sum()"
   ]
  },
  {
   "cell_type": "code",
   "execution_count": 22,
   "metadata": {},
   "outputs": [
    {
     "data": {
      "text/plain": [
       "<matplotlib.axes._subplots.AxesSubplot at 0x1a1a3df4e0>"
      ]
     },
     "execution_count": 22,
     "metadata": {},
     "output_type": "execute_result"
    },
    {
     "data": {
      "image/png": "[encoded data removed]",
      "text/plain": [
       "<Figure size 432x288 with 1 Axes>"
      ]
     },
     "metadata": {
      "needs_background": "light"
     },
     "output_type": "display_data"
    }
   ],
   "source": [
    "boston_df.groupby(CRIM_bucket_4)['weights'].sum().plot('bar', title = 'CRIM_bucket_4')"
   ]
  },
  {
   "cell_type": "code",
   "execution_count": null,
   "metadata": {},
   "outputs": [],
   "source": []
  },
  {
   "cell_type": "code",
   "execution_count": null,
   "metadata": {},
   "outputs": [],
   "source": []
  },
  {
   "cell_type": "code",
   "execution_count": null,
   "metadata": {},
   "outputs": [],
   "source": []
  },
  {
   "cell_type": "code",
   "execution_count": null,
   "metadata": {},
   "outputs": [],
   "source": []
  },
  {
   "cell_type": "code",
   "execution_count": null,
   "metadata": {},
   "outputs": [],
   "source": []
  }
 ],
 "metadata": {
  "kernelspec": {
   "display_name": "pkg-dev",
   "language": "python",
   "name": "pkg-dev"
  },
  "language_info": {
   "codemirror_mode": {
    "name": "ipython",
    "version": 3
   },
   "file_extension": ".py",
   "mimetype": "text/x-python",
   "name": "python",
   "nbconvert_exporter": "python",
   "pygments_lexer": "ipython3",
   "version": "3.7.3"
  }
 },
 "nbformat": 4,
 "nbformat_minor": 2
}
