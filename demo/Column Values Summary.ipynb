{
 "cells": [
  {
   "cell_type": "code",
   "execution_count": 1,
   "id": "934de23a",
   "metadata": {},
   "outputs": [],
   "source": [
    "from sklearn.datasets import load_diabetes"
   ]
  },
  {
   "cell_type": "code",
   "execution_count": 2,
   "id": "d11a8589",
   "metadata": {},
   "outputs": [],
   "source": [
    "import sumnplot as sp\n",
    "from sumnplot.discretisation import (\n",
    "    EqualWidthDiscretiser,\n",
    "    QuantileDiscretiser,\n",
    ")\n",
    "from sumnplot.summary import ColumnSummariser"
   ]
  },
  {
   "cell_type": "code",
   "execution_count": 3,
   "id": "e7048543",
   "metadata": {},
   "outputs": [
    {
     "data": {
      "text/plain": [
       "'0.3.0'"
      ]
     },
     "execution_count": 3,
     "metadata": {},
     "output_type": "execute_result"
    }
   ],
   "source": [
    "sp.__version__"
   ]
  },
  {
   "cell_type": "markdown",
   "id": "8d0585be",
   "metadata": {},
   "source": [
    "# Set up data\n",
    "Make the column `s1` positive so it can be treated as weights."
   ]
  },
  {
   "cell_type": "code",
   "execution_count": 4,
   "id": "8f82d136",
   "metadata": {},
   "outputs": [],
   "source": [
    "X, y = load_diabetes(return_X_y=True, as_frame=True)"
   ]
  },
  {
   "cell_type": "code",
   "execution_count": 5,
   "id": "b17e9602",
   "metadata": {},
   "outputs": [],
   "source": [
    "X[\"s1\"] = X[\"s1\"] - X[\"s1\"].min()"
   ]
  },
  {
   "cell_type": "code",
   "execution_count": 6,
   "id": "47347dfb",
   "metadata": {},
   "outputs": [],
   "source": [
    "X[\"age_bucketed\"] = QuantileDiscretiser(variable=\"age\").fit_transform(\n",
    "    X, sample_weight=X[\"s1\"]\n",
    ")"
   ]
  },
  {
   "cell_type": "code",
   "execution_count": 7,
   "id": "555b0071",
   "metadata": {},
   "outputs": [
    {
     "data": {
      "text/html": [
       "<div>\n",
       "<style scoped>\n",
       "    .dataframe tbody tr th:only-of-type {\n",
       "        vertical-align: middle;\n",
       "    }\n",
       "\n",
       "    .dataframe tbody tr th {\n",
       "        vertical-align: top;\n",
       "    }\n",
       "\n",
       "    .dataframe thead th {\n",
       "        text-align: right;\n",
       "    }\n",
       "</style>\n",
       "<table border=\"1\" class=\"dataframe\">\n",
       "  <thead>\n",
       "    <tr style=\"text-align: right;\">\n",
       "      <th></th>\n",
       "      <th>age</th>\n",
       "      <th>sex</th>\n",
       "      <th>bmi</th>\n",
       "      <th>bp</th>\n",
       "      <th>s1</th>\n",
       "      <th>s2</th>\n",
       "      <th>s3</th>\n",
       "      <th>s4</th>\n",
       "      <th>s5</th>\n",
       "      <th>s6</th>\n",
       "      <th>age_bucketed</th>\n",
       "    </tr>\n",
       "  </thead>\n",
       "  <tbody>\n",
       "    <tr>\n",
       "      <th>0</th>\n",
       "      <td>0.038076</td>\n",
       "      <td>0.050680</td>\n",
       "      <td>0.061696</td>\n",
       "      <td>0.021872</td>\n",
       "      <td>0.082557</td>\n",
       "      <td>-0.034821</td>\n",
       "      <td>-0.043401</td>\n",
       "      <td>-0.002592</td>\n",
       "      <td>0.019908</td>\n",
       "      <td>-0.017646</td>\n",
       "      <td>(0.0344, 0.0453]</td>\n",
       "    </tr>\n",
       "    <tr>\n",
       "      <th>1</th>\n",
       "      <td>-0.001882</td>\n",
       "      <td>-0.044642</td>\n",
       "      <td>-0.051474</td>\n",
       "      <td>-0.026328</td>\n",
       "      <td>0.118332</td>\n",
       "      <td>-0.019163</td>\n",
       "      <td>0.074412</td>\n",
       "      <td>-0.039493</td>\n",
       "      <td>-0.068330</td>\n",
       "      <td>-0.092204</td>\n",
       "      <td>(-0.02, -0.00188]</td>\n",
       "    </tr>\n",
       "    <tr>\n",
       "      <th>2</th>\n",
       "      <td>0.085299</td>\n",
       "      <td>0.050680</td>\n",
       "      <td>0.044451</td>\n",
       "      <td>-0.005671</td>\n",
       "      <td>0.081181</td>\n",
       "      <td>-0.034194</td>\n",
       "      <td>-0.032356</td>\n",
       "      <td>-0.002592</td>\n",
       "      <td>0.002864</td>\n",
       "      <td>-0.025930</td>\n",
       "      <td>(0.0666, 0.111]</td>\n",
       "    </tr>\n",
       "    <tr>\n",
       "      <th>3</th>\n",
       "      <td>-0.089063</td>\n",
       "      <td>-0.044642</td>\n",
       "      <td>-0.011595</td>\n",
       "      <td>-0.036656</td>\n",
       "      <td>0.138971</td>\n",
       "      <td>0.024991</td>\n",
       "      <td>-0.036038</td>\n",
       "      <td>0.034309</td>\n",
       "      <td>0.022692</td>\n",
       "      <td>-0.009362</td>\n",
       "      <td>(-0.108, -0.0565]</td>\n",
       "    </tr>\n",
       "    <tr>\n",
       "      <th>4</th>\n",
       "      <td>0.005383</td>\n",
       "      <td>-0.044642</td>\n",
       "      <td>-0.036385</td>\n",
       "      <td>0.021872</td>\n",
       "      <td>0.130716</td>\n",
       "      <td>0.015596</td>\n",
       "      <td>0.008142</td>\n",
       "      <td>-0.002592</td>\n",
       "      <td>-0.031991</td>\n",
       "      <td>-0.046641</td>\n",
       "      <td>(-0.00188, 0.00902]</td>\n",
       "    </tr>\n",
       "  </tbody>\n",
       "</table>\n",
       "</div>"
      ],
      "text/plain": [
       "        age       sex       bmi        bp        s1        s2        s3  \\\n",
       "0  0.038076  0.050680  0.061696  0.021872  0.082557 -0.034821 -0.043401   \n",
       "1 -0.001882 -0.044642 -0.051474 -0.026328  0.118332 -0.019163  0.074412   \n",
       "2  0.085299  0.050680  0.044451 -0.005671  0.081181 -0.034194 -0.032356   \n",
       "3 -0.089063 -0.044642 -0.011595 -0.036656  0.138971  0.024991 -0.036038   \n",
       "4  0.005383 -0.044642 -0.036385  0.021872  0.130716  0.015596  0.008142   \n",
       "\n",
       "         s4        s5        s6         age_bucketed  \n",
       "0 -0.002592  0.019908 -0.017646     (0.0344, 0.0453]  \n",
       "1 -0.039493 -0.068330 -0.092204    (-0.02, -0.00188]  \n",
       "2 -0.002592  0.002864 -0.025930      (0.0666, 0.111]  \n",
       "3  0.034309  0.022692 -0.009362    (-0.108, -0.0565]  \n",
       "4 -0.002592 -0.031991 -0.046641  (-0.00188, 0.00902]  "
      ]
     },
     "execution_count": 7,
     "metadata": {},
     "output_type": "execute_result"
    }
   ],
   "source": [
    "X.head()"
   ]
  },
  {
   "cell_type": "markdown",
   "id": "cc045e9a",
   "metadata": {},
   "source": [
    "# Summarise by columns"
   ]
  },
  {
   "cell_type": "markdown",
   "id": "ffbbdd62",
   "metadata": {},
   "source": [
    "## Specifying a discretiser for each column individually"
   ]
  },
  {
   "cell_type": "code",
   "execution_count": 8,
   "id": "b2b0e71d",
   "metadata": {},
   "outputs": [],
   "source": [
    "column_summariser = ColumnSummariser(\n",
    "    to_summarise_columns=[\"s1\", \"s2\", \"s3\"],\n",
    "    discretisers=[\n",
    "        sp.discretisation.EqualWidthDiscretiser(variable=\"age\"),\n",
    "        sp.discretisation.EqualWeightDiscretiser(variable=\"bmi\"),\n",
    "        sp.discretisation.QuantileDiscretiser(variable=\"bp\"),\n",
    "    ],\n",
    ")"
   ]
  },
  {
   "cell_type": "code",
   "execution_count": 9,
   "id": "5c4d2c97",
   "metadata": {},
   "outputs": [
    {
     "name": "stdout",
     "output_type": "stream",
     "text": [
      "False\n",
      "False\n",
      "False\n"
     ]
    }
   ],
   "source": [
    "for x in column_summariser.discretisers:\n",
    "    print(hasattr(x, \"cut_points\"))"
   ]
  },
  {
   "cell_type": "code",
   "execution_count": 10,
   "id": "c17fdb6d",
   "metadata": {},
   "outputs": [
    {
     "ename": "AttributeError",
     "evalue": "'ColumnSummariser' object has no attribute 'summarise_columns'",
     "output_type": "error",
     "traceback": [
      "\u001b[0;31m---------------------------------------------------------------------------\u001b[0m",
      "\u001b[0;31mAttributeError\u001b[0m                            Traceback (most recent call last)",
      "\u001b[0;32m/var/folders/hb/rsvqnbxj7s7dwssnz0dg6s4r0000gp/T/ipykernel_15959/2261429862.py\u001b[0m in \u001b[0;36m<module>\u001b[0;34m\u001b[0m\n\u001b[0;32m----> 1\u001b[0;31m \u001b[0mcolumn_summariser\u001b[0m\u001b[0;34m.\u001b[0m\u001b[0msummarise_columns\u001b[0m\u001b[0;34m(\u001b[0m\u001b[0mX\u001b[0m\u001b[0;34m)\u001b[0m\u001b[0;34m\u001b[0m\u001b[0;34m\u001b[0m\u001b[0m\n\u001b[0m",
      "\u001b[0;31mAttributeError\u001b[0m: 'ColumnSummariser' object has no attribute 'summarise_columns'"
     ]
    }
   ],
   "source": [
    "column_summariser.summarise_columns(X)"
   ]
  },
  {
   "cell_type": "code",
   "execution_count": null,
   "id": "275b4f52",
   "metadata": {},
   "outputs": [],
   "source": [
    "for x in column_summariser.discretisers:\n",
    "    print(hasattr(x, \"cut_points\"))"
   ]
  },
  {
   "cell_type": "markdown",
   "id": "6408275e",
   "metadata": {},
   "source": [
    "## Specifying a descretiser or categorical column name"
   ]
  },
  {
   "cell_type": "code",
   "execution_count": null,
   "id": "3be7ab3a",
   "metadata": {},
   "outputs": [],
   "source": [
    "column_summariser_b = ColumnSummariser(\n",
    "    to_summarise_columns=[\"s1\", \"s2\", \"s3\"],\n",
    "    discretisers=[\n",
    "        \"age_bucketed\",\n",
    "        sp.discretisation.EqualWeightDiscretiser(variable=\"bmi\"),\n",
    "        sp.discretisation.QuantileDiscretiser(variable=\"bp\"),\n",
    "    ],\n",
    ")"
   ]
  },
  {
   "cell_type": "code",
   "execution_count": null,
   "id": "c8f6267f",
   "metadata": {},
   "outputs": [],
   "source": [
    "column_summariser_b.summarise_columns(X, sample_weight=X[\"s1\"])"
   ]
  },
  {
   "cell_type": "markdown",
   "id": "dfec7007",
   "metadata": {},
   "source": [
    "## Specifying one discretiser to use for all columns"
   ]
  },
  {
   "cell_type": "code",
   "execution_count": null,
   "id": "612b442e",
   "metadata": {},
   "outputs": [],
   "source": [
    "column_summariser_c = ColumnSummariser(\n",
    "    to_summarise_columns=[\"s1\", \"s2\", \"s3\"],\n",
    "    to_summarise_columns_labels=[\"label1\", \"label2\", \"label3\"],\n",
    "    by_columns=[\"age_bucketed\", \"bmi\", \"bp\"],\n",
    "    discretiser=EqualWidthDiscretiser,\n",
    "    discretiser_kwargs={\"n\": 5},\n",
    ")"
   ]
  },
  {
   "cell_type": "code",
   "execution_count": null,
   "id": "75f337f8",
   "metadata": {},
   "outputs": [],
   "source": [
    "column_summariser_c.summarise_columns(X)"
   ]
  },
  {
   "cell_type": "markdown",
   "id": "262f9dad",
   "metadata": {},
   "source": [
    "## Specifying a column to divde through by in the summaries"
   ]
  },
  {
   "cell_type": "code",
   "execution_count": null,
   "id": "a97b0626",
   "metadata": {},
   "outputs": [],
   "source": [
    "column_summariser_d = ColumnSummariser(\n",
    "    to_summarise_columns=[\"s1\", \"s2\", \"s3\"],\n",
    "    to_summarise_divide_column=\"s1\",\n",
    "    by_columns=[\"age_bucketed\", \"bmi\", \"bp\"],\n",
    "    discretiser=EqualWidthDiscretiser,\n",
    "    discretiser_kwargs={\"n\": 5},\n",
    ")"
   ]
  },
  {
   "cell_type": "code",
   "execution_count": null,
   "id": "0d9d0c8c",
   "metadata": {},
   "outputs": [],
   "source": [
    "column_summariser_d.summarise_columns(X)"
   ]
  },
  {
   "cell_type": "markdown",
   "id": "d5e8d7dd",
   "metadata": {},
   "source": [
    "## Using `_summarise_column` method directly"
   ]
  },
  {
   "cell_type": "code",
   "execution_count": null,
   "id": "6d2cbe91",
   "metadata": {},
   "outputs": [],
   "source": [
    "ColumnSummariser._summarise_column(\n",
    "    df=X,\n",
    "    to_summarise_columns=[\"s1\", \"s2\", \"s3\"],\n",
    "    to_summarise_columns_labels=[\"obs\", \"p1\", \"p2\"],\n",
    "    to_summarise_divide_column=\"s1\",\n",
    "    by_column=\"age_bucketed\",\n",
    ")"
   ]
  },
  {
   "cell_type": "markdown",
   "id": "50e4b0cc",
   "metadata": {},
   "source": [
    "## Specifying a second group by column"
   ]
  },
  {
   "cell_type": "code",
   "execution_count": null,
   "id": "981c5eb8",
   "metadata": {},
   "outputs": [],
   "source": [
    "ColumnSummariser._summarise_column(\n",
    "    df=X,\n",
    "    to_summarise_columns=[\"s1\", \"s2\", \"s3\"],\n",
    "    to_summarise_divide_column=\"s1\",\n",
    "    by_column=sp.discretisation.QuantileDiscretiser(\n",
    "        variable=\"bmi\", quantiles=(0, 0.33, 0.66, 1.0)\n",
    "    ),\n",
    "    second_by_column=sp.discretisation.QuantileDiscretiser(\n",
    "        variable=\"bp\", quantiles=(0, 0.5, 1.0)\n",
    "    ),\n",
    ")"
   ]
  }
 ],
 "metadata": {
  "jupytext": {
   "formats": "ipynb,py:light"
  },
  "kernelspec": {
   "display_name": "sumnplot",
   "language": "python",
   "name": "sumnplot"
  },
  "language_info": {
   "codemirror_mode": {
    "name": "ipython",
    "version": 3
   },
   "file_extension": ".py",
   "mimetype": "text/x-python",
   "name": "python",
   "nbconvert_exporter": "python",
   "pygments_lexer": "ipython3",
   "version": "3.7.13"
  },
  "toc": {
   "base_numbering": 1,
   "nav_menu": {},
   "number_sections": true,
   "sideBar": true,
   "skip_h1_title": false,
   "title_cell": "Table of Contents",
   "title_sidebar": "Contents",
   "toc_cell": false,
   "toc_position": {},
   "toc_section_display": true,
   "toc_window_display": false
  }
 },
 "nbformat": 4,
 "nbformat_minor": 5
}
